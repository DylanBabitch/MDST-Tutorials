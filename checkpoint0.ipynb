{
 "cells": [
  {
   "cell_type": "markdown",
   "metadata": {
    "colab_type": "text",
    "id": "0a8IYAJUshu1"
   },
   "source": [
    "# Checkpoint 0 "
   ]
  },
  {
   "cell_type": "markdown",
   "metadata": {},
   "source": [
    "These exercises are a mix of Python and Pandas practice. Most should be no more than a few lines of code! "
   ]
  },
  {
   "cell_type": "code",
   "execution_count": null,
   "metadata": {
    "colab": {},
    "colab_type": "code",
    "id": "Jo6wuTgkshu1"
   },
   "outputs": [],
   "source": [
    "# here is a Python list:\n",
    "\n",
    "a = [1, 2, 3, 4, 5, 6]\n"
   ]
  },
  {
   "cell_type": "code",
   "execution_count": null,
   "id": "779d96b1",
   "metadata": {},
   "outputs": [],
   "source": [
    "# get a list containing the last 3 elements of a\n",
    "# Yes, you can just type out [4, 5, 6] but we really want to see you demonstrate you know how to use list slicing in Python\n",
    "b = a[3:]"
   ]
  },
  {
   "cell_type": "code",
   "execution_count": null,
   "id": "b6a54def",
   "metadata": {},
   "outputs": [],
   "source": [
    "# create a list of numbers from 1 to 20\n",
    "nums = []\n",
    "for num in range(1, 21):\n",
    "    nums.append(num)"
   ]
  },
  {
   "cell_type": "code",
   "execution_count": null,
   "id": "487873ac",
   "metadata": {},
   "outputs": [],
   "source": [
    "# now get a list with only the even numbers between 1 and 100\n",
    "# you may or may not make use of the list you made in the last cell\n",
    "nums2 = []\n",
    "for num in range(1, 101):\n",
    "    if (num % 2 == 0):\n",
    "        nums2.append(num)"
   ]
  },
  {
   "cell_type": "code",
   "execution_count": null,
   "id": "3d4bb5dd",
   "metadata": {},
   "outputs": [],
   "source": [
    "# write a function that takes two numbers as arguments\n",
    "# and returns the first number divided by the second\n",
    "def foo(a, b):\n",
    "    return a / b"
   ]
  },
  {
   "cell_type": "code",
   "execution_count": null,
   "id": "f55df04e",
   "metadata": {},
   "outputs": [],
   "source": [
    "# fizzbuzz\n",
    "# you will need to use both iteration and control flow \n",
    "# go through all numbers from 1 to 30 in order\n",
    "# if the number is a multiple of 3, print fizz\n",
    "# if the number is a multiple of 5, print buzz\n",
    "# if the number is a multiple of 3 and 5, print fizzbuzz and NOTHING ELSE\n",
    "# if the number is neither a multiple of 3 nor a multiple of 5, print the number\n",
    "\n",
    "for i in range(1, 31):\n",
    "    if(i % 3 == 0 and i % 5 == 0):\n",
    "        print(\"fizzbuzz\")\n",
    "    elif(i % 3 == 0):\n",
    "        print(\"fizz\")\n",
    "    elif(i % 5 == 0):\n",
    "        print(\"buzz\")\n",
    "    else:\n",
    "        print(i)"
   ]
  },
  {
   "cell_type": "code",
   "execution_count": null,
   "id": "78aace0b",
   "metadata": {},
   "outputs": [],
   "source": [
    "# create a dictionary that reflects the following menu pricing (taken from Ahmo's)\n",
    "# Gyro: $9 \n",
    "# Burger: $9\n",
    "# Greek Salad: $8\n",
    "# Philly Steak: $10\n",
    "\n",
    "menu = {\n",
    "    \"Gyro\": 9,\n",
    "    \"Burger\": 9,\n",
    "    \"Greek Salad\": 8,\n",
    "    \"Philly Steak\": 10\n",
    "}"
   ]
  },
  {
   "cell_type": "code",
   "execution_count": null,
   "metadata": {
    "colab": {},
    "colab_type": "code",
    "id": "WzCQ5HOJshvA"
   },
   "outputs": [],
   "source": [
    "# load in the \"starbucks.csv\" dataset\n",
    "# refer to how we read the cereal.csv dataset in the tutorial\n",
    "import pandas as pd\n",
    "df = pd.read_csv(\"../data/starbucks.csv\")"
   ]
  },
  {
   "cell_type": "code",
   "execution_count": null,
   "id": "ac0f0c12",
   "metadata": {},
   "outputs": [],
   "source": [
    "# select all rows with more than and including 400 calories\n",
    "fourhundred_cals = df[df['calories'] >= 400]"
   ]
  },
  {
   "cell_type": "code",
   "execution_count": null,
   "id": "ee8f8241",
   "metadata": {},
   "outputs": [],
   "source": [
    "# select all rows whose vitamin c content is higher than the iron content\n",
    "higher_vitamin_c = df[df[\"vitamin c\"] > df[\"iron\"]]"
   ]
  },
  {
   "cell_type": "code",
   "execution_count": null,
   "id": "d4de48bb",
   "metadata": {},
   "outputs": [],
   "source": [
    "# create a new column containing the caffeine per calories of each drink\n",
    "caff_per_cal = []\n",
    "for index, row in df.iterrows():\n",
    "\n",
    "    try:\n",
    "        caff_per_cal.append(row['caffeine']/ row['calories'])\n",
    "    except:\n",
    "       caff_per_cal.append(row['caffeine'])\n",
    "    \n",
    "\n",
    "df[\"caffeinepercalories\"] = caff_per_cal"
   ]
  },
  {
   "cell_type": "code",
   "execution_count": null,
   "metadata": {
    "colab": {},
    "colab_type": "code",
    "id": "rIoxaSxHshvB"
   },
   "outputs": [],
   "source": [
    "# what is the average calorie across all items?\n",
    "total_cals = 0\n",
    "for index, row in df.iterrows():\n",
    "    total_cals += row[\"calories\"]\n",
    "    \n",
    "print(f\"Average calories: {total_cals/df.shape[0]}\")"
   ]
  },
  {
   "cell_type": "code",
   "execution_count": null,
   "metadata": {
    "colab": {},
    "colab_type": "code",
    "id": "ABX7i49FshvD"
   },
   "outputs": [],
   "source": [
    "# how many different categories of beverages are there?\n",
    "\n",
    "beverage_types = []\n",
    "for index, row in df.iterrows():\n",
    "    if row[\"beverage_category\"] not in beverage_types:\n",
    "        beverage_types.append(row[\"beverage_category\"])\n",
    "\n",
    "print(f\"There are: {len(beverage_types)} different categories of beverages\")\n",
    "\n"
   ]
  },
  {
   "cell_type": "code",
   "execution_count": null,
   "metadata": {
    "colab": {},
    "colab_type": "code",
    "id": "P9QatZAzshvE"
   },
   "outputs": [],
   "source": [
    "# what is the average # calories for each beverage category?\n",
    "beverage_types = []\n",
    "for index, row in df.iterrows():\n",
    "    if row[\"beverage_category\"] not in beverage_types:\n",
    "        beverage_types.append(row[\"beverage_category\"])\n",
    "\n",
    "indexx = 0\n",
    "total_cals = 0\n",
    "num_bevs = 0\n",
    "for index, row in df.iterrows():\n",
    "    if row[\"beverage_category\"] == beverage_types[indexx]:\n",
    "        num_bevs += 1\n",
    "        total_cals += row[\"calories\"]\n",
    "    else:\n",
    "        print(f\"For {beverage_types[indexx]}, the average calories is {total_cals/num_bevs}\")\n",
    "        indexx += 1\n",
    "        total_cals = 0\n",
    "        num_bevs = 0"
   ]
  }
 ],
 "metadata": {
  "kernelspec": {
   "display_name": "Python 3.9.0 64-bit",
   "language": "python",
   "name": "python3"
  },
  "language_info": {
   "codemirror_mode": {
    "name": "ipython",
    "version": 3
   },
   "file_extension": ".py",
   "mimetype": "text/x-python",
   "name": "python",
   "nbconvert_exporter": "python",
   "pygments_lexer": "ipython3",
   "version": "3.9.0"
  },
  "vscode": {
   "interpreter": {
    "hash": "6cf8df3ff69f85f626faf55c10df6fe2cb9d1236b4dc73844ee4dc01369c2c99"
   }
  }
 },
 "nbformat": 4,
 "nbformat_minor": 5
}
